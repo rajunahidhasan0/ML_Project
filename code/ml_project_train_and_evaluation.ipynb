{
 "cells": [
  {
   "cell_type": "markdown",
   "id": "218aeb79",
   "metadata": {
    "id": "218aeb79"
   },
   "source": [
    "## Predication with Different Classification Method to The Dataset"
   ]
  },
  {
   "cell_type": "code",
   "execution_count": null,
   "id": "8u87wItZgc5z",
   "metadata": {
    "colab": {
     "base_uri": "https://localhost:8080/"
    },
    "executionInfo": {
     "elapsed": 10160,
     "status": "ok",
     "timestamp": 1733444518653,
     "user": {
      "displayName": "Nadim Mahmud",
      "userId": "12866761848113428285"
     },
     "user_tz": 300
    },
    "id": "8u87wItZgc5z",
    "outputId": "afc8db8e-a3ed-44a0-a2b9-6ec5d7c597ff"
   },
   "outputs": [],
   "source": [
    "%pip install scikeras"
   ]
  },
  {
   "cell_type": "code",
   "execution_count": 11,
   "id": "cecb0a47",
   "metadata": {
    "executionInfo": {
     "elapsed": 7,
     "status": "ok",
     "timestamp": 1733444518653,
     "user": {
      "displayName": "Nadim Mahmud",
      "userId": "12866761848113428285"
     },
     "user_tz": 300
    },
    "id": "cecb0a47"
   },
   "outputs": [],
   "source": [
    "import pandas as pd\n",
    "import numpy as np\n",
    "import os\n",
    "import tensorflow as tf\n",
    "\n",
    "from sklearn.exceptions import ConvergenceWarning\n",
    "import warnings\n",
    "\n",
    "from sklearn.decomposition import PCA\n",
    "from sklearn import metrics\n",
    "from sklearn.metrics import classification_report\n",
    "from sklearn.model_selection import train_test_split\n",
    "from sklearn.preprocessing import StandardScaler\n",
    "from sklearn.neighbors import KNeighborsClassifier\n",
    "\n",
    "from tensorflow.keras.models import Sequential\n",
    "from tensorflow.keras.layers import Dense\n",
    "from tensorflow.keras.utils import to_categorical\n",
    "\n",
    "# ML Models\n",
    "from sklearn.linear_model import LogisticRegression\n",
    "from sklearn.naive_bayes import GaussianNB\n",
    "from sklearn.svm import SVC\n",
    "from sklearn.tree import DecisionTreeClassifier\n",
    "from xgboost import XGBClassifier\n",
    "from scikeras.wrappers import KerasClassifier\n",
    "\n",
    "# Model Selection\n",
    "from sklearn.model_selection import cross_val_score\n",
    "from sklearn.model_selection import KFold\n",
    "from sklearn.model_selection import StratifiedKFold\n",
    "from sklearn.model_selection import GridSearchCV\n",
    "from sklearn.model_selection import RandomizedSearchCV\n",
    "\n",
    "# Ensemble Methods\n",
    "from sklearn.ensemble import RandomForestClassifier, AdaBoostClassifier, GradientBoostingClassifier\n",
    "from sklearn.ensemble import IsolationForest"
   ]
  },
  {
   "cell_type": "code",
   "execution_count": 12,
   "id": "df5f1c92",
   "metadata": {
    "executionInfo": {
     "elapsed": 6,
     "status": "ok",
     "timestamp": 1733444518653,
     "user": {
      "displayName": "Nadim Mahmud",
      "userId": "12866761848113428285"
     },
     "user_tz": 300
    },
    "id": "df5f1c92"
   },
   "outputs": [],
   "source": [
    "# Suppress warnings\n",
    "warnings.filterwarnings(\"ignore\", category=ConvergenceWarning)\n",
    "warnings.filterwarnings(\"ignore\")\n",
    "os.environ[\"PYTHONWARNINGS\"] = \"ignore\""
   ]
  },
  {
   "cell_type": "code",
   "execution_count": 13,
   "id": "4b276802",
   "metadata": {
    "colab": {
     "base_uri": "https://localhost:8080/"
    },
    "executionInfo": {
     "elapsed": 7,
     "status": "ok",
     "timestamp": 1733444518654,
     "user": {
      "displayName": "Nadim Mahmud",
      "userId": "12866761848113428285"
     },
     "user_tz": 300
    },
    "id": "4b276802",
    "outputId": "202ce665-362a-4eda-9c93-74ed5c461aab"
   },
   "outputs": [
    {
     "data": {
      "text/plain": [
       "<function __main__.<lambda>(obj, p, cycle)>"
      ]
     },
     "execution_count": 13,
     "metadata": {},
     "output_type": "execute_result"
    }
   ],
   "source": [
    "# Set maximum output lines before scrolling\n",
    "from IPython.core.interactiveshell import InteractiveShell\n",
    "InteractiveShell.instance().display_formatter.formatters['text/plain'].for_type(\n",
    "    type, lambda obj, p, cycle: p.text(repr(obj)[:10000])\n",
    ")"
   ]
  },
  {
   "cell_type": "markdown",
   "id": "db941cad",
   "metadata": {
    "id": "db941cad"
   },
   "source": [
    "### Metrics Calculations"
   ]
  },
  {
   "cell_type": "code",
   "execution_count": 14,
   "id": "1aceecb7",
   "metadata": {
    "executionInfo": {
     "elapsed": 6,
     "status": "ok",
     "timestamp": 1733444518654,
     "user": {
      "displayName": "Nadim Mahmud",
      "userId": "12866761848113428285"
     },
     "user_tz": 300
    },
    "id": "1aceecb7"
   },
   "outputs": [],
   "source": [
    "def calculate_metrics(classifier, y_value, y_pred):\n",
    "    print(f\"{classifier} Metrics: \")\n",
    "    print(classification_report(y_value, y_pred))"
   ]
  },
  {
   "cell_type": "code",
   "execution_count": 15,
   "id": "c9677b8a",
   "metadata": {
    "executionInfo": {
     "elapsed": 6,
     "status": "ok",
     "timestamp": 1733444518654,
     "user": {
      "displayName": "Nadim Mahmud",
      "userId": "12866761848113428285"
     },
     "user_tz": 300
    },
    "id": "c9677b8a"
   },
   "outputs": [],
   "source": [
    "def fit_model_and_generate_metrics(model, label, X_train, X_test, y_train, y_test):\n",
    "    model.fit(X_train, y_train)\n",
    "    calculate_metrics(label, y_test, model.predict(X_test))"
   ]
  },
  {
   "cell_type": "code",
   "execution_count": 26,
   "id": "93a91ddf",
   "metadata": {
    "executionInfo": {
     "elapsed": 190,
     "status": "ok",
     "timestamp": 1733444518838,
     "user": {
      "displayName": "Nadim Mahmud",
      "userId": "12866761848113428285"
     },
     "user_tz": 300
    },
    "id": "93a91ddf"
   },
   "outputs": [],
   "source": [
    "class ModelTuningAndEvaluation:\n",
    "\n",
    "    param_grid_logistic_regression = {\n",
    "        'C': [0.01, 1, 10, 100],\n",
    "        'solver': ['lbfgs', 'liblinear', 'saga'],\n",
    "        'penalty': ['l2'],\n",
    "        'max_iter': [100, 500, 1000]\n",
    "    }\n",
    "\n",
    "    param_grid_decission_tree_classifier = {\n",
    "        'max_depth': [None, 5, 20, 50],\n",
    "        'min_samples_split': [2, 5, 10, 20],\n",
    "        'criterion': ['gini', 'entropy'],\n",
    "    }\n",
    "\n",
    "    param_grid_random_forest_classifier = {\n",
    "        'n_estimators': [100, 200, 500],\n",
    "        'max_depth': [None, 10, 20, 50],\n",
    "        'bootstrap': [True, False],\n",
    "        'criterion': ['gini', 'entropy']\n",
    "    }\n",
    "\n",
    "    param_grid_gaussian_naive_bias = {\n",
    "        'var_smoothing': [1e-9, 1e-8, 1e-7, 1e-6, 1e-5, 1e-4]\n",
    "    }\n",
    "\n",
    "    param_grid_svc = {\n",
    "        'C': [0.1, 1, 10, 100, 1000],\n",
    "        'gamma': [1, 0.1, 0.01, 0.001, 0.0001],\n",
    "        'kernel': ['rbf', 'poly']\n",
    "    }\n",
    "\n",
    "    param_grid_knn = {\n",
    "        'n_neighbors': [100, 500, 700, 900, 1100, 1500],\n",
    "        'weights': ['uniform', 'distance'],\n",
    "        'metric': ['minkowski'],\n",
    "        'p': [1, 2]\n",
    "    }\n",
    "\n",
    "    param_grid_ada_boost = {\n",
    "        'n_estimators': [50, 100, 200],\n",
    "        'learning_rate': [0.01, 0.5, 1.0],\n",
    "        'estimator': [\n",
    "            DecisionTreeClassifier(max_depth=1),\n",
    "            DecisionTreeClassifier(max_depth=3)\n",
    "        ],\n",
    "    }\n",
    "\n",
    "    param_grid_xgb = {\n",
    "        'n_estimators': [50, 100, 200],\n",
    "        'learning_rate': [0.01, 0.1, 0.2],\n",
    "        'subsample': [0.6, 0.8, 1.0],\n",
    "        'gamma': [0, 0.1, 0.3, 0.5],\n",
    "    }\n",
    "\n",
    "    param_grid_grad_boost = {\n",
    "      'n_estimators': [50, 100, 200],\n",
    "      'learning_rate': [0.01, 0.1, 0.2],\n",
    "      'max_depth': [3, 5, 7],\n",
    "      'random_state': [42]\n",
    "    }\n",
    "\n",
    "    param_grid_ann = {\n",
    "        'model__n_neurons': [64],\n",
    "        'model__activation': ['relu', 'tanh'],\n",
    "        'epochs': [100, 150],\n",
    "        'batch_size': [50, 100]\n",
    "    }\n",
    "\n",
    "    def __init__(self, file_path):\n",
    "        self.feature_path = file_path\n",
    "        self.feature_df = self.get_feture()\n",
    "        self.X, self.y = self.split_feture_and_target()\n",
    "        # for xgaboost mapping y to start from zero\n",
    "        self.y = self.map_zero_to_n() \n",
    "        self.number_of_categories = self.get_number_of_categories()\n",
    "        self.X_train, self.X_test, self.y_train, self.y_test = self.get_scale_and_test_train_split()\n",
    "\n",
    "    # data read and processing section\n",
    "    def remove_outliear(self, feature_df):\n",
    "        iso = IsolationForest(contamination=0.01, random_state=42)\n",
    "        outliers = iso.fit_predict(feature_df)\n",
    "        data_cleaned = feature_df[outliers == 1]\n",
    "        return data_cleaned\n",
    "\n",
    "    def get_feture(self):\n",
    "        feature_df = pd.read_csv(self.feature_path)\n",
    "        feature_df = feature_df.iloc[:, 1:] # remove index\n",
    "        return self.remove_outliear(feature_df)\n",
    "\n",
    "    def split_feture_and_target(self):\n",
    "        X = self.feature_df.iloc[:, :-1]\n",
    "        y = self.feature_df.iloc[:, -1]\n",
    "        return X, y\n",
    "\n",
    "    def get_scale_and_test_train_split(self):\n",
    "        #Scaling\n",
    "        scaler = StandardScaler()\n",
    "        scaled_fature = scaler.fit_transform(self.X)\n",
    "        #test train split\n",
    "        return train_test_split(scaled_fature, self.y, train_size=.20, random_state=42, stratify=self.y)\n",
    "\n",
    "    def map_zero_to_n(self):\n",
    "        unique_values = {val: idx for idx, val in enumerate(self.y.unique())}\n",
    "        y_mapped = self.y.map(unique_values)\n",
    "        return y_mapped\n",
    "\n",
    "    def get_number_of_categories(self):\n",
    "        return len(self.y.unique())\n",
    "\n",
    "    def onehot_encode(self):\n",
    "        self.y_train = to_categorical(self.y_train, num_classes = self.number_of_categories)\n",
    "        print(self.y_train.shape)\n",
    "\n",
    "    # Cross validation\n",
    "    def kfold_cross_validation(self, model, n_splits):\n",
    "        kf = KFold(n_splits=n_splits, shuffle=True, random_state=42)\n",
    "        kfold_score = cross_val_score(model, self.X, self.y, cv=kf)\n",
    "        mean_score = np.mean(kfold_score)\n",
    "        print(\"K-fold cross-validation scores:\", kfold_score)\n",
    "        print(\"Mean K-fold cross-validation score:\", mean_score)\n",
    "\n",
    "    def stratified_cross_validation(self, model, n_splits):\n",
    "        skf = StratifiedKFold(n_splits=n_splits, shuffle=True, random_state=42)\n",
    "        skfold_score = cross_val_score(model, self.X, self.y, cv=skf)\n",
    "        \n",
    "        mean_score = np.mean(skfold_score)\n",
    "        print(\"Straified cross validation scores:\", skfold_score)\n",
    "        print(\"Mean Straified cross-validation score:\", mean_score)\n",
    "\n",
    "    def cross_validation(self, model, n_splits):\n",
    "        self.kfold_cross_validation(model, n_splits)\n",
    "        self.stratified_cross_validation(model, n_splits)\n",
    "\n",
    "    # Hyper-parameter tuning\n",
    "\n",
    "    def gridSerach(self, estimator, param_grid):\n",
    "        print(\"#---------- Grid Search ------------#\")\n",
    "\n",
    "        grid_search = GridSearchCV(estimator=estimator, param_grid=param_grid, cv=3, verbose=0)\n",
    "        grid_search.fit(self.X_train, self.y_train)\n",
    "\n",
    "        print(\"Best parameters: \", grid_search.best_params_)\n",
    "        print(\"Best score: \", grid_search.best_score_)\n",
    "        return grid_search\n",
    "\n",
    "    def randomSearch(self, estimator, param_grid):\n",
    "        print(\"\\n#---------- Random Search -----------#\")\n",
    "\n",
    "        random_search = RandomizedSearchCV(estimator=estimator, param_distributions=param_grid, n_iter=500, cv=3, random_state=42)\n",
    "        random_search.fit(self.X_train, self.y_train)\n",
    "\n",
    "        print(\"Best parameters: \", random_search.best_params_)\n",
    "        print(\"Best score: \", random_search.best_score_)\n",
    "        return random_search\n",
    "\n",
    "    def hyper_parameter_tuning(self, model, param_grid):\n",
    "        grid_search = self.gridSerach(model, param_grid)\n",
    "        random_search = self.randomSearch(model, param_grid)\n",
    "        return grid_search if grid_search.best_score_ > random_search.best_score_ else random_search\n",
    "\n",
    "    # Models section\n",
    "    def logistic_regression_model(self):\n",
    "        print(\"#------------------- #1. Logistic Regression Model --------------------#\")\n",
    "\n",
    "        tuned_model = self.hyper_parameter_tuning(LogisticRegression(), self.param_grid_logistic_regression)\n",
    "        lrm = tuned_model.best_estimator_\n",
    "\n",
    "        fit_model_and_generate_metrics(lrm, \"Logistic Regression\", self.X_train, self.X_test, self.y_train, self.y_test)\n",
    "        self.cross_validation(lrm, 10)\n",
    "\n",
    "    def decission_tree_classifier_model(self):\n",
    "        print(\"#-------------------- #2. Decission Tree Classifier Model --------------------#\")\n",
    "\n",
    "        tuned_model = self.hyper_parameter_tuning(DecisionTreeClassifier(), self.param_grid_decission_tree_classifier)\n",
    "        dt = tuned_model.best_estimator_\n",
    "\n",
    "        fit_model_and_generate_metrics(dt, \"Decission Tree Classifier\", self.X_train, self.X_test, self.y_train, self.y_test)\n",
    "        self.cross_validation(dt, 10)\n",
    "\n",
    "    def random_forest_classifier_model(self):\n",
    "        print(\"#-------------------- #3. Random Forest Classifier Model --------------------#\")\n",
    "\n",
    "        tuned_model = self.hyper_parameter_tuning(RandomForestClassifier(), self.param_grid_random_forest_classifier)\n",
    "        rfc = tuned_model.best_estimator_\n",
    "\n",
    "        fit_model_and_generate_metrics(rfc, \"Random Forest Classifier\", self.X_train, self.X_test, self.y_train, self.y_test)\n",
    "        self.cross_validation(rfc, 10)\n",
    "\n",
    "    def gaussian_naive_bias_classifier_model(self):\n",
    "        print(\"#-------------------- #4. Gaussian Naive Bias Classifier Model --------------------#\")\n",
    "\n",
    "        tuned_model = self.hyper_parameter_tuning(GaussianNB(), self.param_grid_gaussian_naive_bias)\n",
    "        gnb = tuned_model.best_estimator_\n",
    "\n",
    "        fit_model_and_generate_metrics(gnb, \"Gaussian Naive Bias Classifier\", self.X_train, self.X_test, self.y_train, self.y_test)\n",
    "        self.cross_validation(gnb, 10)\n",
    "\n",
    "\n",
    "    def support_vector_classifier_model(self):\n",
    "        print(\"#-------------------- #5. Support Vector Classifier Model --------------------#\")\n",
    "\n",
    "        tuned_model = self.hyper_parameter_tuning(SVC(), self.param_grid_svc)\n",
    "        svc = tuned_model.best_estimator_\n",
    "\n",
    "        fit_model_and_generate_metrics(svc, \"Support Vector Classifier\", self.X_train, self.X_test, self.y_train, self.y_test)\n",
    "        self.cross_validation(svc, 10)\n",
    "\n",
    "\n",
    "    def knn_classifier_model(self):\n",
    "        print(\"#-------------------- #6. K-Nearest Neighbors Classifier Model --------------------#\")\n",
    "\n",
    "        tuned_model = self.hyper_parameter_tuning(KNeighborsClassifier(), self.param_grid_knn)\n",
    "        knn = tuned_model.best_estimator_\n",
    "\n",
    "        fit_model_and_generate_metrics(knn, \"K-Nearest Neighbors\", self.X_train, self.X_test, self.y_train, self.y_test)\n",
    "        self.cross_validation(knn, 10)\n",
    "\n",
    "    def ada_boost_classifier_model(self):\n",
    "        print(\"#-------------------- #7. Ada-Boost Classifier Model --------------------#\")\n",
    "\n",
    "        tuned_model = self.hyper_parameter_tuning(AdaBoostClassifier(), self.param_grid_ada_boost)\n",
    "        abc = tuned_model.best_estimator_\n",
    "\n",
    "        fit_model_and_generate_metrics(abc, \"Ada-Boost Classifier\", self.X_train, self.X_test, self.y_train, self.y_test)\n",
    "        self.cross_validation(abc, 10)\n",
    "\n",
    "    def xg_boost_classifier_model(self):\n",
    "        print(\"-------------------- #8. XG Boost Classifier Model --------------------#\")\n",
    "\n",
    "        tuned_model = self.hyper_parameter_tuning(XGBClassifier(), self.param_grid_xgb)\n",
    "        xgb = tuned_model.best_estimator_\n",
    "\n",
    "        fit_model_and_generate_metrics(xgb, \"XG Boost Classifier\", self.X_train, self.X_test, self.y_train, self.y_test)\n",
    "        self.cross_validation(xgb, 10)\n",
    "\n",
    "    def gradient_boost_classifier_model(self):\n",
    "        print(\"#-------------------- #9. Gradient Boost Classifier Model --------------------#\")\n",
    "\n",
    "        tuned_model = self.hyper_parameter_tuning(GradientBoostingClassifier(), self.param_grid_grad_boost)\n",
    "        gb = tuned_model.best_estimator_\n",
    "\n",
    "        fit_model_and_generate_metrics(gb, \"Gradient Boost Classifier\", self.X_train, self.X_test, self.y_train, self.y_test)\n",
    "        self.cross_validation(gb, 10)\n",
    "\n",
    "    @staticmethod\n",
    "    def build_ann(n_neurons=128, activation='relu'):\n",
    "        model = Sequential()\n",
    "        # Input layer\n",
    "        model.add(Dense(n_neurons, activation=activation, input_shape=(24,)))\n",
    "\n",
    "        model.add(Dense(n_neurons, activation=activation))\n",
    "        model.add(Dense(n_neurons, activation=activation))\n",
    "        model.add(Dense(n_neurons, activation=activation))\n",
    "\n",
    "        # Output layer\n",
    "        model.add(Dense(units=15, activation='softmax'))\n",
    "\n",
    "        model.compile(optimizer='adam',\n",
    "                    loss='categorical_crossentropy',\n",
    "                    metrics=['accuracy'])\n",
    "\n",
    "        return model\n",
    "\n",
    "    def ann_model(self):\n",
    "        print(\"#-------------------- #10. Artificial Neural Net Model --------------------#\")\n",
    "\n",
    "        y_train_tmp = self.y_train\n",
    "\n",
    "        self.onehot_encode()\n",
    "\n",
    "        model = KerasClassifier(build_fn=self.build_ann, verbose=0, epochs = 50, batch_size = 100)\n",
    "\n",
    "        tuned_model = self.hyper_parameter_tuning(model, self.param_grid_ann)\n",
    "        ann = tuned_model.best_estimator_\n",
    "\n",
    "        model.fit(self.X_train, self.y_train)\n",
    "        y_pred = model.predict(self.X_test)\n",
    "        y_pred_classes = np.argmax(y_pred, axis=1)\n",
    "\n",
    "        calculate_metrics(\"10. Artificial Neural Net\", self.y_test, y_pred_classes)\n",
    "        self.cross_validation(ann, 2)\n",
    "\n",
    "        self.y_train = y_train_tmp\n"
   ]
  },
  {
   "cell_type": "code",
   "execution_count": 23,
   "id": "xkrwkNYuf8X7",
   "metadata": {
    "executionInfo": {
     "elapsed": 1,
     "status": "ok",
     "timestamp": 1733444518838,
     "user": {
      "displayName": "Nadim Mahmud",
      "userId": "12866761848113428285"
     },
     "user_tz": 300
    },
    "id": "xkrwkNYuf8X7"
   },
   "outputs": [],
   "source": [
    "path = '../data/Processed_Features/'"
   ]
  },
  {
   "cell_type": "code",
   "execution_count": 24,
   "id": "3a7ab797-fc88-4549-80e3-a894b4ccb2e5",
   "metadata": {
    "executionInfo": {
     "elapsed": 709,
     "status": "ok",
     "timestamp": 1733444519546,
     "user": {
      "displayName": "Nadim Mahmud",
      "userId": "12866761848113428285"
     },
     "user_tz": 300
    },
    "id": "A0T3QkR1CVXP"
   },
   "outputs": [],
   "source": [
    "# Evaluation for W100_O25_Features\n",
    "evaluate_model = ModelTuningAndEvaluation(path + \"W100_O25_Features.csv\")"
   ]
  },
  {
   "cell_type": "code",
   "execution_count": 25,
   "id": "12070a8f-49e6-42ad-ac43-d4e01fac55eb",
   "metadata": {
    "executionInfo": {
     "elapsed": 709,
     "status": "ok",
     "timestamp": 1733444519546,
     "user": {
      "displayName": "Nadim Mahmud",
      "userId": "12866761848113428285"
     },
     "user_tz": 300
    },
    "id": "A0T3QkR1CVXP"
   },
   "outputs": [
    {
     "name": "stdout",
     "output_type": "stream",
     "text": [
      "#------------------- #1. Logistic Regression Model --------------------#\n",
      "#-------- Grid Search --------#\n",
      "Best parameters:  {'C': 100, 'max_iter': 100, 'penalty': 'l2', 'solver': 'liblinear'}\n",
      "Best score:  0.3515655965120888\n",
      "\n",
      "#---------- Random Search -----------#\n",
      "Best parameters:  {'solver': 'liblinear', 'penalty': 'l2', 'max_iter': 100, 'C': 100}\n",
      "Best score:  0.3515655965120888\n",
      "Logistic Regression Metrics: \n",
      "              precision    recall  f1-score   support\n",
      "\n",
      "           0       0.26      0.43      0.32      2021\n",
      "           1       0.37      0.57      0.45      2114\n",
      "           2       0.26      0.24      0.25      2278\n",
      "           3       0.22      0.51      0.31      2224\n",
      "           4       0.32      0.33      0.33      2270\n",
      "           5       0.32      0.38      0.35      1974\n",
      "           6       0.27      0.12      0.16      2084\n",
      "           7       0.16      0.13      0.14      2222\n",
      "           8       0.60      0.80      0.69      1650\n",
      "           9       0.87      0.73      0.80      1698\n",
      "          10       0.61      0.71      0.66      1996\n",
      "          11       0.23      0.20      0.21      2172\n",
      "          12       0.27      0.05      0.09      2137\n",
      "          13       0.28      0.11      0.16      1788\n",
      "          14       0.25      0.04      0.07      1650\n",
      "\n",
      "    accuracy                           0.35     30278\n",
      "   macro avg       0.35      0.36      0.33     30278\n",
      "weighted avg       0.34      0.35      0.32     30278\n",
      "\n",
      "K-fold cross-validation scores: [0.30383091 0.32655218 0.32021136 0.31651255 0.32496697 0.31545575\n",
      " 0.31281374 0.3147463  0.34196617 0.32003171]\n",
      "Mean K-fold cross-validation score: 0.31970876470768944\n",
      "Straified cross validation scores: [0.31413474 0.32549538 0.30356671 0.30805812 0.32628798 0.29775429\n",
      " 0.31492734 0.32161734 0.32082452 0.31183932]\n",
      "Mean Straified cross-validation score: 0.31445057546060584\n"
     ]
    }
   ],
   "source": [
    "# 1. Logistic Regression on W100_O25_Features\n",
    "evaluate_model.logistic_regression_model()"
   ]
  },
  {
   "cell_type": "code",
   "execution_count": 27,
   "id": "215375fa-1a21-4a55-bc78-b39b965ca436",
   "metadata": {
    "executionInfo": {
     "elapsed": 709,
     "status": "ok",
     "timestamp": 1733444519546,
     "user": {
      "displayName": "Nadim Mahmud",
      "userId": "12866761848113428285"
     },
     "user_tz": 300
    },
    "id": "A0T3QkR1CVXP"
   },
   "outputs": [
    {
     "name": "stdout",
     "output_type": "stream",
     "text": [
      "#-------------------- #2. Decission Tree Classifier Model --------------------#\n",
      "#-------- Grid Search --------#\n",
      "Best parameters:  {'criterion': 'entropy', 'max_depth': 50, 'min_samples_split': 5}\n",
      "Best score:  0.4975558197912538\n",
      "\n",
      "#---------- Random Search -----------#\n",
      "Best parameters:  {'min_samples_split': 2, 'max_depth': 20, 'criterion': 'entropy'}\n",
      "Best score:  0.5001981767736822\n",
      "Decission Tree Classifier Metrics: \n",
      "              precision    recall  f1-score   support\n",
      "\n",
      "           0       0.68      0.69      0.69      2021\n",
      "           1       0.83      0.74      0.79      2114\n",
      "           2       0.56      0.63      0.60      2278\n",
      "           3       0.62      0.59      0.61      2224\n",
      "           4       0.51      0.48      0.49      2270\n",
      "           5       0.34      0.34      0.34      1974\n",
      "           6       0.28      0.27      0.27      2084\n",
      "           7       0.40      0.41      0.41      2222\n",
      "           8       0.64      0.69      0.67      1650\n",
      "           9       0.83      0.83      0.83      1698\n",
      "          10       0.63      0.63      0.63      1996\n",
      "          11       0.45      0.44      0.44      2172\n",
      "          12       0.42      0.40      0.41      2137\n",
      "          13       0.41      0.43      0.42      1788\n",
      "          14       0.36      0.38      0.37      1650\n",
      "\n",
      "    accuracy                           0.53     30278\n",
      "   macro avg       0.53      0.53      0.53     30278\n",
      "weighted avg       0.53      0.53      0.53     30278\n",
      "\n",
      "K-fold cross-validation scores: [0.61558785 0.61188904 0.62034346 0.62219287 0.60634082 0.61109643\n",
      " 0.63513871 0.64217759 0.62817125 0.61522199]\n",
      "Mean K-fold cross-validation score: 0.6208159992291815\n",
      "Straified cross validation scores: [0.62985469 0.61294584 0.62245707 0.62166446 0.61955086 0.61532365\n",
      " 0.61743725 0.61020085 0.6205074  0.61997886]\n",
      "Mean Straified cross-validation score: 0.6189920921295533\n"
     ]
    }
   ],
   "source": [
    "# 2. Decision Tree Classifier on W100_O25_Features\n",
    "evaluate_model.decission_tree_classifier_model()"
   ]
  },
  {
   "cell_type": "code",
   "execution_count": 28,
   "id": "3b7ca97e-c79d-4f7f-ac40-e0a2a9ebd41a",
   "metadata": {
    "executionInfo": {
     "elapsed": 709,
     "status": "ok",
     "timestamp": 1733444519546,
     "user": {
      "displayName": "Nadim Mahmud",
      "userId": "12866761848113428285"
     },
     "user_tz": 300
    },
    "id": "A0T3QkR1CVXP"
   },
   "outputs": [
    {
     "name": "stdout",
     "output_type": "stream",
     "text": [
      "#-------------------- #3. Random Forest Classifier Model --------------------#\n",
      "#-------- Grid Search --------#\n",
      "Best parameters:  {'bootstrap': False, 'criterion': 'entropy', 'max_depth': None, 'n_estimators': 500}\n",
      "Best score:  0.6364116792178623\n",
      "\n",
      "#---------- Random Search -----------#\n",
      "Best parameters:  {'n_estimators': 200, 'max_depth': 20, 'criterion': 'entropy', 'bootstrap': False}\n",
      "Best score:  0.6356189721231339\n",
      "Random Forest Classifier Metrics: \n",
      "              precision    recall  f1-score   support\n",
      "\n",
      "           0       0.75      0.85      0.80      2021\n",
      "           1       0.87      0.87      0.87      2114\n",
      "           2       0.66      0.74      0.70      2278\n",
      "           3       0.68      0.69      0.69      2224\n",
      "           4       0.59      0.69      0.64      2270\n",
      "           5       0.40      0.61      0.49      1974\n",
      "           6       0.49      0.32      0.39      2084\n",
      "           7       0.49      0.54      0.51      2222\n",
      "           8       0.72      0.85      0.78      1650\n",
      "           9       0.91      0.88      0.89      1698\n",
      "          10       0.68      0.82      0.74      1996\n",
      "          11       0.72      0.50      0.59      2172\n",
      "          12       0.70      0.41      0.51      2137\n",
      "          13       0.58      0.50      0.54      1788\n",
      "          14       0.55      0.44      0.49      1650\n",
      "\n",
      "    accuracy                           0.65     30278\n",
      "   macro avg       0.65      0.65      0.64     30278\n",
      "weighted avg       0.65      0.65      0.64     30278\n",
      "\n",
      "K-fold cross-validation scores: [0.74081902 0.7347424  0.74161162 0.71889036 0.72575958 0.72892999\n",
      " 0.73844122 0.75528541 0.74894292 0.71590909]\n",
      "Mean K-fold cross-validation score: 0.7349331608301379\n",
      "Straified cross validation scores: [0.74161162 0.73923382 0.73632761 0.73949802 0.7331572  0.73896962\n",
      " 0.732893   0.73546512 0.72991543 0.74233615]\n",
      "Mean Straified cross-validation score: 0.7369407586975403\n"
     ]
    }
   ],
   "source": [
    "# 3. Random Forest Classifier on W100_O25_Features\n",
    "evaluate_model.random_forest_classifier_model()"
   ]
  },
  {
   "cell_type": "code",
   "execution_count": 29,
   "id": "12627a95-a599-4995-898c-76c1491b295f",
   "metadata": {
    "executionInfo": {
     "elapsed": 709,
     "status": "ok",
     "timestamp": 1733444519546,
     "user": {
      "displayName": "Nadim Mahmud",
      "userId": "12866761848113428285"
     },
     "user_tz": 300
    },
    "id": "A0T3QkR1CVXP"
   },
   "outputs": [
    {
     "name": "stdout",
     "output_type": "stream",
     "text": [
      "#-------------------- #4. Gaussian Naive Bias Classifier Model --------------------#\n",
      "#-------- Grid Search --------#\n",
      "Best parameters:  {'var_smoothing': 1e-09}\n",
      "Best score:  0.2212973972783723\n",
      "\n",
      "#---------- Random Search -----------#\n",
      "Best parameters:  {'var_smoothing': 1e-09}\n",
      "Best score:  0.2212973972783723\n",
      "Gaussian Naive Bias Classifier Metrics: \n",
      "              precision    recall  f1-score   support\n",
      "\n",
      "           0       0.11      0.88      0.20      2021\n",
      "           1       0.10      0.02      0.03      2114\n",
      "           2       0.11      0.07      0.09      2278\n",
      "           3       0.09      0.04      0.05      2224\n",
      "           4       0.23      0.13      0.16      2270\n",
      "           5       0.30      0.18      0.22      1974\n",
      "           6       0.16      0.07      0.10      2084\n",
      "           7       0.11      0.06      0.08      2222\n",
      "           8       0.52      0.65      0.58      1650\n",
      "           9       0.70      0.70      0.70      1698\n",
      "          10       0.49      0.57      0.52      1996\n",
      "          11       0.24      0.00      0.01      2172\n",
      "          12       0.21      0.01      0.03      2137\n",
      "          13       0.17      0.06      0.09      1788\n",
      "          14       0.14      0.03      0.05      1650\n",
      "\n",
      "    accuracy                           0.22     30278\n",
      "   macro avg       0.25      0.23      0.19     30278\n",
      "weighted avg       0.24      0.22      0.18     30278\n",
      "\n",
      "K-fold cross-validation scores: [0.19286658 0.20290621 0.20845443 0.19048877 0.19682959 0.18996037\n",
      " 0.2007926  0.19714588 0.2140592  0.20798097]\n",
      "Mean K-fold cross-validation score: 0.20014845934072686\n",
      "Straified cross validation scores: [0.19762219 0.18837517 0.19260238 0.19815059 0.2005284  0.20898283\n",
      " 0.20554822 0.2095666  0.2032241  0.19635307]\n",
      "Mean Straified cross-validation score: 0.2000953538642857\n"
     ]
    }
   ],
   "source": [
    "# 4. Gaussian Naive Bayes on W100_O25_Features\n",
    "evaluate_model.gaussian_naive_bias_classifier_model()"
   ]
  },
  {
   "cell_type": "code",
   "execution_count": 30,
   "id": "28ef0415-5601-495b-9e8e-c049dd559042",
   "metadata": {
    "executionInfo": {
     "elapsed": 709,
     "status": "ok",
     "timestamp": 1733444519546,
     "user": {
      "displayName": "Nadim Mahmud",
      "userId": "12866761848113428285"
     },
     "user_tz": 300
    },
    "id": "A0T3QkR1CVXP"
   },
   "outputs": [
    {
     "name": "stdout",
     "output_type": "stream",
     "text": [
      "#-------------------- #5. Support Vector Classifier Model --------------------#\n",
      "#-------- Grid Search --------#\n",
      "Best parameters:  {'C': 1000, 'gamma': 0.1, 'kernel': 'rbf'}\n",
      "Best score:  0.5768265292641036\n",
      "\n",
      "#---------- Random Search -----------#\n",
      "Best parameters:  {'kernel': 'rbf', 'gamma': 0.1, 'C': 1000}\n",
      "Best score:  0.5768265292641036\n",
      "Support Vector Classifier Metrics: \n",
      "              precision    recall  f1-score   support\n",
      "\n",
      "           0       0.75      0.78      0.76      2021\n",
      "           1       0.83      0.85      0.84      2114\n",
      "           2       0.56      0.72      0.63      2278\n",
      "           3       0.59      0.68      0.63      2224\n",
      "           4       0.59      0.61      0.60      2270\n",
      "           5       0.38      0.41      0.39      1974\n",
      "           6       0.41      0.33      0.37      2084\n",
      "           7       0.49      0.46      0.47      2222\n",
      "           8       0.72      0.78      0.75      1650\n",
      "           9       0.73      0.88      0.80      1698\n",
      "          10       0.63      0.77      0.70      1996\n",
      "          11       0.51      0.47      0.49      2172\n",
      "          12       0.42      0.26      0.32      2137\n",
      "          13       0.55      0.43      0.48      1788\n",
      "          14       0.49      0.39      0.44      1650\n",
      "\n",
      "    accuracy                           0.59     30278\n",
      "   macro avg       0.58      0.59      0.58     30278\n",
      "weighted avg       0.57      0.59      0.58     30278\n",
      "\n",
      "K-fold cross-validation scores: [0.16882431 0.16380449 0.17384412 0.16882431 0.15402906 0.17516513\n",
      " 0.18018494 0.16014799 0.1717759  0.16437632]\n",
      "Mean K-fold cross-validation score: 0.16809765654455527\n",
      "Straified cross validation scores: [0.17807133 0.17040951 0.17225892 0.17305152 0.16908851 0.1669749\n",
      " 0.16195509 0.1609408  0.16120507 0.18551797]\n",
      "Mean Straified cross-validation score: 0.16994736232094532\n"
     ]
    }
   ],
   "source": [
    "# 5. Support Vector Classifier on W100_O25_Features\n",
    "evaluate_model.support_vector_classifier_model()"
   ]
  },
  {
   "cell_type": "code",
   "execution_count": 31,
   "id": "a47d20f1-e356-4d62-bc53-1c413231aa08",
   "metadata": {
    "executionInfo": {
     "elapsed": 709,
     "status": "ok",
     "timestamp": 1733444519546,
     "user": {
      "displayName": "Nadim Mahmud",
      "userId": "12866761848113428285"
     },
     "user_tz": 300
    },
    "id": "A0T3QkR1CVXP"
   },
   "outputs": [
    {
     "name": "stdout",
     "output_type": "stream",
     "text": [
      "#-------------------- #6. K-Nearest Neighbors Classifier Model --------------------#\n",
      "#-------- Grid Search --------#\n",
      "Best parameters:  {'metric': 'minkowski', 'n_neighbors': 100, 'p': 1, 'weights': 'distance'}\n",
      "Best score:  0.49742370194213237\n",
      "\n",
      "#---------- Random Search -----------#\n",
      "Best parameters:  {'weights': 'distance', 'p': 1, 'n_neighbors': 100, 'metric': 'minkowski'}\n",
      "Best score:  0.49742370194213237\n",
      "K-Nearest Neighbors Metrics: \n",
      "              precision    recall  f1-score   support\n",
      "\n",
      "           0       0.64      0.73      0.68      2021\n",
      "           1       0.72      0.79      0.75      2114\n",
      "           2       0.44      0.65      0.52      2278\n",
      "           3       0.47      0.73      0.57      2224\n",
      "           4       0.55      0.50      0.52      2270\n",
      "           5       0.33      0.40      0.36      1974\n",
      "           6       0.37      0.17      0.24      2084\n",
      "           7       0.31      0.38      0.34      2222\n",
      "           8       0.49      0.86      0.62      1650\n",
      "           9       0.92      0.70      0.80      1698\n",
      "          10       0.55      0.67      0.60      1996\n",
      "          11       0.59      0.40      0.47      2172\n",
      "          12       0.75      0.28      0.41      2137\n",
      "          13       0.48      0.29      0.37      1788\n",
      "          14       0.51      0.20      0.28      1650\n",
      "\n",
      "    accuracy                           0.52     30278\n",
      "   macro avg       0.54      0.52      0.50     30278\n",
      "weighted avg       0.54      0.52      0.50     30278\n",
      "\n",
      "K-fold cross-validation scores: [0.35719947 0.35719947 0.36089828 0.36908851 0.34742404 0.35587847\n",
      " 0.3682959  0.3615222  0.36707188 0.34408034]\n",
      "Mean K-fold cross-validation score: 0.3588658566557095\n",
      "Straified cross validation scores: [0.3675033  0.3653897  0.36116248 0.37569353 0.33976222 0.35799207\n",
      " 0.35508587 0.34936575 0.35729387 0.37130021]\n",
      "Mean Straified cross-validation score: 0.3600548998634311\n"
     ]
    }
   ],
   "source": [
    "# 6. K-Nearest Neighbors on W100_O25_Features\n",
    "evaluate_model.knn_classifier_model()"
   ]
  },
  {
   "cell_type": "code",
   "execution_count": 32,
   "id": "48417b5f-7b0b-47d2-800b-a37b454b625f",
   "metadata": {
    "executionInfo": {
     "elapsed": 709,
     "status": "ok",
     "timestamp": 1733444519546,
     "user": {
      "displayName": "Nadim Mahmud",
      "userId": "12866761848113428285"
     },
     "user_tz": 300
    },
    "id": "A0T3QkR1CVXP"
   },
   "outputs": [
    {
     "name": "stdout",
     "output_type": "stream",
     "text": [
      "#-------------------- #7. Ada-Boost Classifier Model --------------------#\n",
      "#-------- Grid Search --------#\n",
      "Best parameters:  {'estimator': DecisionTreeClassifier(max_depth=3), 'learning_rate': 0.01, 'n_estimators': 100}\n",
      "Best score:  0.3361078081648831\n",
      "\n",
      "#---------- Random Search -----------#\n",
      "Best parameters:  {'n_estimators': 100, 'learning_rate': 0.01, 'estimator': DecisionTreeClassifier(max_depth=3)}\n",
      "Best score:  0.3361078081648831\n",
      "Ada-Boost Classifier Metrics: \n",
      "              precision    recall  f1-score   support\n",
      "\n",
      "           0       0.34      0.61      0.44      2021\n",
      "           1       0.76      0.28      0.41      2114\n",
      "           2       0.27      0.54      0.36      2278\n",
      "           3       0.36      0.47      0.41      2224\n",
      "           4       0.32      0.47      0.38      2270\n",
      "           5       0.26      0.66      0.37      1974\n",
      "           6       0.16      0.02      0.04      2084\n",
      "           7       0.23      0.23      0.23      2222\n",
      "           8       0.71      0.66      0.69      1650\n",
      "           9       0.84      0.01      0.02      1698\n",
      "          10       0.37      0.81      0.51      1996\n",
      "          11       0.50      0.26      0.34      2172\n",
      "          12       0.44      0.02      0.04      2137\n",
      "          13       0.32      0.05      0.09      1788\n",
      "          14       0.24      0.03      0.05      1650\n",
      "\n",
      "    accuracy                           0.35     30278\n",
      "   macro avg       0.41      0.34      0.29     30278\n",
      "weighted avg       0.40      0.35      0.29     30278\n",
      "\n",
      "K-fold cross-validation scores: [0.32391017 0.32470277 0.33685601 0.32047556 0.34266843 0.32972259\n",
      " 0.34689564 0.30919662 0.34963002 0.33245243]\n",
      "Mean K-fold cross-validation score: 0.33165102454609685\n",
      "Straified cross validation scores: [0.32206077 0.3347424  0.32338177 0.32945839 0.34768824 0.32945839\n",
      " 0.32708058 0.33165962 0.32267442 0.34645877]\n",
      "Mean Straified cross-validation score: 0.3314663353450948\n"
     ]
    }
   ],
   "source": [
    "# 7. AdaBoost Classifier on W100_O25_Features\n",
    "evaluate_model.ada_boost_classifier_model()"
   ]
  },
  {
   "cell_type": "code",
   "execution_count": 33,
   "id": "49207abc-5dcd-4125-a186-7084322dde32",
   "metadata": {
    "executionInfo": {
     "elapsed": 709,
     "status": "ok",
     "timestamp": 1733444519546,
     "user": {
      "displayName": "Nadim Mahmud",
      "userId": "12866761848113428285"
     },
     "user_tz": 300
    },
    "id": "A0T3QkR1CVXP"
   },
   "outputs": [
    {
     "ename": "AttributeError",
     "evalue": "'ModelTuningAndEvaluation' object has no attribute 'gradient_boost_model'",
     "output_type": "error",
     "traceback": [
      "\u001b[1;31m---------------------------------------------------------------------------\u001b[0m",
      "\u001b[1;31mAttributeError\u001b[0m                            Traceback (most recent call last)",
      "Cell \u001b[1;32mIn[33], line 2\u001b[0m\n\u001b[0;32m      1\u001b[0m \u001b[38;5;66;03m# 8. Gradient Boost on W100_O25_Features\u001b[39;00m\n\u001b[1;32m----> 2\u001b[0m \u001b[43mevaluate_model\u001b[49m\u001b[38;5;241;43m.\u001b[39;49m\u001b[43mgradient_boost_model\u001b[49m()\n",
      "\u001b[1;31mAttributeError\u001b[0m: 'ModelTuningAndEvaluation' object has no attribute 'gradient_boost_model'"
     ]
    }
   ],
   "source": [
    "# 8. Gradient Boost on W100_O25_Features\n",
    "evaluate_model.gradient_boost_model()"
   ]
  },
  {
   "cell_type": "code",
   "execution_count": null,
   "id": "3ac3f337-d5fa-45c4-89b7-257b7fa20cad",
   "metadata": {
    "executionInfo": {
     "elapsed": 709,
     "status": "ok",
     "timestamp": 1733444519546,
     "user": {
      "displayName": "Nadim Mahmud",
      "userId": "12866761848113428285"
     },
     "user_tz": 300
    },
    "id": "A0T3QkR1CVXP"
   },
   "outputs": [],
   "source": [
    "# 9. XGBoost Classifier on W100_O25_Features\n",
    "evaluate_model.xg_boost_classifier_model()"
   ]
  },
  {
   "cell_type": "code",
   "execution_count": null,
   "id": "47ce386c-5884-4658-b8ab-0a18af715f0b",
   "metadata": {
    "executionInfo": {
     "elapsed": 709,
     "status": "ok",
     "timestamp": 1733444519546,
     "user": {
      "displayName": "Nadim Mahmud",
      "userId": "12866761848113428285"
     },
     "user_tz": 300
    },
    "id": "A0T3QkR1CVXP"
   },
   "outputs": [],
   "source": [
    "# 10. Artificial Neural Network on W100_O25_Features\n",
    "evaluate_model.ann_model()"
   ]
  },
  {
   "cell_type": "code",
   "execution_count": null,
   "id": "be476206-82e2-4220-9050-5f1a70f0aa80",
   "metadata": {
    "executionInfo": {
     "elapsed": 709,
     "status": "ok",
     "timestamp": 1733444519546,
     "user": {
      "displayName": "Nadim Mahmud",
      "userId": "12866761848113428285"
     },
     "user_tz": 300
    },
    "id": "A0T3QkR1CVXP"
   },
   "outputs": [],
   "source": [
    "# Evaluation for W100_O50_Features\n",
    "evaluate_model = ModelTuningAndEvaluation(path + \"W100_O50_Features.csv\")"
   ]
  },
  {
   "cell_type": "code",
   "execution_count": null,
   "id": "2b12d11f-e62b-4958-9688-79aa0d5cd409",
   "metadata": {
    "executionInfo": {
     "elapsed": 709,
     "status": "ok",
     "timestamp": 1733444519546,
     "user": {
      "displayName": "Nadim Mahmud",
      "userId": "12866761848113428285"
     },
     "user_tz": 300
    },
    "id": "A0T3QkR1CVXP"
   },
   "outputs": [],
   "source": [
    "# 1. Logistic Regression on W100_O50_Features\n",
    "evaluate_model.logistic_regression_model()"
   ]
  },
  {
   "cell_type": "code",
   "execution_count": null,
   "id": "56b6b7ad-f260-4f12-bb3b-93c943538e1b",
   "metadata": {
    "executionInfo": {
     "elapsed": 709,
     "status": "ok",
     "timestamp": 1733444519546,
     "user": {
      "displayName": "Nadim Mahmud",
      "userId": "12866761848113428285"
     },
     "user_tz": 300
    },
    "id": "A0T3QkR1CVXP"
   },
   "outputs": [],
   "source": [
    "# 2. Decision Tree Classifier on W100_O50_Features\n",
    "evaluate_model.decission_tree_classifier_model()"
   ]
  },
  {
   "cell_type": "code",
   "execution_count": null,
   "id": "37b9c9af-26ea-4e36-b20e-80c59cc73079",
   "metadata": {
    "executionInfo": {
     "elapsed": 709,
     "status": "ok",
     "timestamp": 1733444519546,
     "user": {
      "displayName": "Nadim Mahmud",
      "userId": "12866761848113428285"
     },
     "user_tz": 300
    },
    "id": "A0T3QkR1CVXP"
   },
   "outputs": [],
   "source": [
    "# 3. Random Forest Classifier on W100_O50_Features\n",
    "evaluate_model.random_forest_classifier_model()"
   ]
  },
  {
   "cell_type": "code",
   "execution_count": null,
   "id": "ff19990a-24e2-4c9a-b227-34104c216a38",
   "metadata": {
    "executionInfo": {
     "elapsed": 709,
     "status": "ok",
     "timestamp": 1733444519546,
     "user": {
      "displayName": "Nadim Mahmud",
      "userId": "12866761848113428285"
     },
     "user_tz": 300
    },
    "id": "A0T3QkR1CVXP"
   },
   "outputs": [],
   "source": [
    "# 4. Gaussian Naive Bayes on W100_O50_Features\n",
    "evaluate_model.gaussian_naive_bias_classifier_model()"
   ]
  },
  {
   "cell_type": "code",
   "execution_count": null,
   "id": "d54c8974-6c89-4991-8b00-6018c49524e0",
   "metadata": {
    "executionInfo": {
     "elapsed": 709,
     "status": "ok",
     "timestamp": 1733444519546,
     "user": {
      "displayName": "Nadim Mahmud",
      "userId": "12866761848113428285"
     },
     "user_tz": 300
    },
    "id": "A0T3QkR1CVXP"
   },
   "outputs": [],
   "source": [
    "# 5. Support Vector Classifier on W100_O50_Features\n",
    "evaluate_model.support_vector_classifier_model()"
   ]
  },
  {
   "cell_type": "code",
   "execution_count": null,
   "id": "98ca1940-6334-4a36-a5db-47b61c720448",
   "metadata": {
    "executionInfo": {
     "elapsed": 709,
     "status": "ok",
     "timestamp": 1733444519546,
     "user": {
      "displayName": "Nadim Mahmud",
      "userId": "12866761848113428285"
     },
     "user_tz": 300
    },
    "id": "A0T3QkR1CVXP"
   },
   "outputs": [],
   "source": [
    "# 6. K-Nearest Neighbors on W100_O50_Features\n",
    "evaluate_model.knn_classifier_model()"
   ]
  },
  {
   "cell_type": "code",
   "execution_count": null,
   "id": "c8492252-5ed0-4bca-9df3-04b6ad1bf548",
   "metadata": {
    "executionInfo": {
     "elapsed": 709,
     "status": "ok",
     "timestamp": 1733444519546,
     "user": {
      "displayName": "Nadim Mahmud",
      "userId": "12866761848113428285"
     },
     "user_tz": 300
    },
    "id": "A0T3QkR1CVXP"
   },
   "outputs": [],
   "source": [
    "# 7. AdaBoost Classifier on W100_O50_Features\n",
    "evaluate_model.ada_boost_classifier_model()"
   ]
  },
  {
   "cell_type": "code",
   "execution_count": null,
   "id": "4aa81194-7998-49f9-9d42-8648131dc303",
   "metadata": {
    "executionInfo": {
     "elapsed": 709,
     "status": "ok",
     "timestamp": 1733444519546,
     "user": {
      "displayName": "Nadim Mahmud",
      "userId": "12866761848113428285"
     },
     "user_tz": 300
    },
    "id": "A0T3QkR1CVXP"
   },
   "outputs": [],
   "source": [
    "# 8. Gradient Boost on W100_O50_Features\n",
    "evaluate_model.gradient_boost_model()"
   ]
  },
  {
   "cell_type": "code",
   "execution_count": null,
   "id": "b034aad1-1fc1-4d03-9578-d2e89db4b20b",
   "metadata": {
    "executionInfo": {
     "elapsed": 709,
     "status": "ok",
     "timestamp": 1733444519546,
     "user": {
      "displayName": "Nadim Mahmud",
      "userId": "12866761848113428285"
     },
     "user_tz": 300
    },
    "id": "A0T3QkR1CVXP"
   },
   "outputs": [],
   "source": [
    "# 9. XGBoost Classifier on W100_O50_Features\n",
    "evaluate_model.xg_boost_classifier_model()"
   ]
  },
  {
   "cell_type": "code",
   "execution_count": null,
   "id": "2903c504-9b3e-463f-b421-51ee981ce6c5",
   "metadata": {
    "executionInfo": {
     "elapsed": 709,
     "status": "ok",
     "timestamp": 1733444519546,
     "user": {
      "displayName": "Nadim Mahmud",
      "userId": "12866761848113428285"
     },
     "user_tz": 300
    },
    "id": "A0T3QkR1CVXP"
   },
   "outputs": [],
   "source": [
    "# 10. Artificial Neural Network on W100_O50_Features\n",
    "evaluate_model.ann_model()"
   ]
  },
  {
   "cell_type": "code",
   "execution_count": null,
   "id": "8b9092b8-46f5-4f42-8d27-3810b0da9038",
   "metadata": {},
   "outputs": [],
   "source": [
    "# Evaluation for W200_O25_Features\n",
    "evaluate_model = ModelTuningAndEvaluation(path + \"W200_O25_Features.csv\")"
   ]
  },
  {
   "cell_type": "code",
   "execution_count": null,
   "id": "f0dda51b-658b-4c85-bc93-0b04c2464575",
   "metadata": {},
   "outputs": [],
   "source": [
    "# 1. Logistic Regression on W200_O25_Features\n",
    "evaluate_model.logistic_regression_model()"
   ]
  },
  {
   "cell_type": "code",
   "execution_count": null,
   "id": "0c41771b-6e83-4795-b743-706d168085e8",
   "metadata": {},
   "outputs": [],
   "source": [
    "# 2. Decision Tree Classifier on W200_O25_Features\n",
    "evaluate_model.decission_tree_classifier_model()"
   ]
  },
  {
   "cell_type": "code",
   "execution_count": null,
   "id": "85a3d1a0-ec41-4aac-962a-1b709aebd3de",
   "metadata": {},
   "outputs": [],
   "source": [
    "# 3. Random Forest Classifier on W200_O25_Features\n",
    "evaluate_model.random_forest_classifier_model()"
   ]
  },
  {
   "cell_type": "code",
   "execution_count": null,
   "id": "9dc9a5e3-dc60-489c-8634-dff72f0dd493",
   "metadata": {},
   "outputs": [],
   "source": [
    "# 4. Gaussian Naive Bayes on W200_O25_Features\n",
    "evaluate_model.gaussian_naive_bias_classifier_model()"
   ]
  },
  {
   "cell_type": "code",
   "execution_count": null,
   "id": "ea84af67-88b3-4d67-ae38-195e63aad0e8",
   "metadata": {},
   "outputs": [],
   "source": [
    "# 5. Support Vector Classifier on W200_O25_Features\n",
    "evaluate_model.support_vector_classifier_model()"
   ]
  },
  {
   "cell_type": "code",
   "execution_count": null,
   "id": "5a61bbae-8a74-42c4-b6c6-43c518b3dd0c",
   "metadata": {},
   "outputs": [],
   "source": [
    "# 6. K-Nearest Neighbors on W200_O25_Features\n",
    "evaluate_model.knn_classifier_model()"
   ]
  },
  {
   "cell_type": "code",
   "execution_count": null,
   "id": "54e9a9b1-8275-4565-b2bc-b450aa08439f",
   "metadata": {},
   "outputs": [],
   "source": [
    "# 7. AdaBoost Classifier on W200_O25_Features\n",
    "evaluate_model.ada_boost_classifier_model()"
   ]
  },
  {
   "cell_type": "code",
   "execution_count": null,
   "id": "0b6d34b8-73bd-4836-8fa0-d5fdbbf1c95a",
   "metadata": {},
   "outputs": [],
   "source": [
    "# 8. Gradient Boost on W200_O25_Features\n",
    "evaluate_model.gradient_boost_model()"
   ]
  },
  {
   "cell_type": "code",
   "execution_count": null,
   "id": "b605d1c7-0cb4-4d4c-a4f1-7d71091fc8f1",
   "metadata": {},
   "outputs": [],
   "source": [
    "# 9. XGBoost Classifier on W200_O25_Features\n",
    "evaluate_model.xg_boost_classifier_model()"
   ]
  },
  {
   "cell_type": "code",
   "execution_count": null,
   "id": "b64b3eb5-adaa-4fb5-8237-532e78021db5",
   "metadata": {},
   "outputs": [],
   "source": [
    "# 10. Artificial Neural Network on W200_O25_Features\n",
    "evaluate_model.ann_model()"
   ]
  },
  {
   "cell_type": "code",
   "execution_count": null,
   "id": "611454d7-457d-4e3a-b976-5a964fa0767d",
   "metadata": {},
   "outputs": [],
   "source": [
    "# Evaluation for W200_O50_Features\n",
    "evaluate_model = ModelTuningAndEvaluation(path + \"W200_O50_Features.csv\")"
   ]
  },
  {
   "cell_type": "code",
   "execution_count": null,
   "id": "55b20b36-ab6d-47cf-9705-caf7fc45956a",
   "metadata": {},
   "outputs": [],
   "source": [
    "# 1. Logistic Regression on W200_O50_Features\n",
    "evaluate_model.logistic_regression_model()"
   ]
  },
  {
   "cell_type": "code",
   "execution_count": null,
   "id": "18825ab7-a321-4507-9e67-f43f95ded3d6",
   "metadata": {},
   "outputs": [],
   "source": [
    "# 2. Decision Tree Classifier on W200_O50_Features\n",
    "evaluate_model.decission_tree_classifier_model()"
   ]
  },
  {
   "cell_type": "code",
   "execution_count": null,
   "id": "dc478b02-693c-4b68-a550-16f71165f718",
   "metadata": {},
   "outputs": [],
   "source": [
    "# 3. Random Forest Classifier on W200_O50_Features\n",
    "evaluate_model.random_forest_classifier_model()"
   ]
  },
  {
   "cell_type": "code",
   "execution_count": null,
   "id": "42fab774-c9f9-44e7-a048-9d3e9aa2ee6e",
   "metadata": {},
   "outputs": [],
   "source": [
    "# 4. Gaussian Naive Bayes on W200_O50_Features\n",
    "evaluate_model.gaussian_naive_bias_classifier_model()"
   ]
  },
  {
   "cell_type": "code",
   "execution_count": null,
   "id": "bee63308-045d-4670-ae01-d7ac3c61b11d",
   "metadata": {},
   "outputs": [],
   "source": [
    "# 5. Support Vector Classifier on W200_O50_Features\n",
    "evaluate_model.support_vector_classifier_model()"
   ]
  },
  {
   "cell_type": "code",
   "execution_count": null,
   "id": "40d264b7-fd18-4f3d-a922-3076adcd0931",
   "metadata": {},
   "outputs": [],
   "source": [
    "# 6. K-Nearest Neighbors on W200_O50_Features\n",
    "evaluate_model.knn_classifier_model()"
   ]
  },
  {
   "cell_type": "code",
   "execution_count": null,
   "id": "5fc3f5de-26cf-4d6b-a5a9-8b9178bce9b6",
   "metadata": {},
   "outputs": [],
   "source": [
    "# 7. AdaBoost Classifier on W200_O50_Features\n",
    "evaluate_model.ada_boost_classifier_model()"
   ]
  },
  {
   "cell_type": "code",
   "execution_count": null,
   "id": "a5f60d1c-6d15-4d53-9793-2a8f4e2c8194",
   "metadata": {},
   "outputs": [],
   "source": [
    "# 8. Gradient Boost on W200_O50_Features\n",
    "evaluate_model.gradient_boost_model()"
   ]
  },
  {
   "cell_type": "code",
   "execution_count": null,
   "id": "a803b9a1-4b8a-4853-bf13-ce75cbae3e12",
   "metadata": {},
   "outputs": [],
   "source": [
    "# 9. XGBoost Classifier on W200_O50_Features\n",
    "evaluate_model.xg_boost_classifier_model()"
   ]
  },
  {
   "cell_type": "code",
   "execution_count": null,
   "id": "15bc02e2-7568-4c45-a698-273863d68f26",
   "metadata": {},
   "outputs": [],
   "source": [
    "# 10. Artificial Neural Network on W200_O50_Features\n",
    "evaluate_model.ann_model()"
   ]
  },
  {
   "cell_type": "code",
   "execution_count": null,
   "id": "253aba33-f986-42dd-816f-bb040a7767f3",
   "metadata": {},
   "outputs": [],
   "source": [
    "# Evaluation for W300_O25_Features\n",
    "evaluate_model = ModelTuningAndEvaluation(path + \"W300_O25_Features.csv\")"
   ]
  },
  {
   "cell_type": "code",
   "execution_count": null,
   "id": "4eedb0e5-4b2f-42fe-a88f-cb49356afeef",
   "metadata": {},
   "outputs": [],
   "source": [
    "# 1. Logistic Regression on W300_O25_Features\n",
    "evaluate_model.logistic_regression_model()"
   ]
  },
  {
   "cell_type": "code",
   "execution_count": null,
   "id": "0e5bc5e8-e239-4dac-b578-a27895eb4254",
   "metadata": {},
   "outputs": [],
   "source": [
    "# 2. Decision Tree Classifier on W300_O25_Features\n",
    "evaluate_model.decission_tree_classifier_model()"
   ]
  },
  {
   "cell_type": "code",
   "execution_count": null,
   "id": "b2c8387f-e633-4f71-b07d-993043e916fd",
   "metadata": {},
   "outputs": [],
   "source": [
    "# 3. Random Forest Classifier on W300_O25_Features\n",
    "evaluate_model.random_forest_classifier_model()"
   ]
  },
  {
   "cell_type": "code",
   "execution_count": null,
   "id": "9dd42cad-e17e-4cf4-9eae-b35e35300640",
   "metadata": {},
   "outputs": [],
   "source": [
    "# 4. Gaussian Naive Bayes on W300_O25_Features\n",
    "evaluate_model.gaussian_naive_bias_classifier_model()"
   ]
  },
  {
   "cell_type": "code",
   "execution_count": null,
   "id": "8782a0f7-58d6-44c1-a3dc-eee7dbaceae7",
   "metadata": {},
   "outputs": [],
   "source": [
    "# 5. Support Vector Classifier on W300_O25_Features\n",
    "evaluate_model.support_vector_classifier_model()"
   ]
  },
  {
   "cell_type": "code",
   "execution_count": null,
   "id": "4109229e-8316-4ab3-8f1b-f06a43b61f3c",
   "metadata": {},
   "outputs": [],
   "source": [
    "# 6. K-Nearest Neighbors on W300_O25_Features\n",
    "evaluate_model.knn_classifier_model()"
   ]
  },
  {
   "cell_type": "code",
   "execution_count": null,
   "id": "24cd7430-9537-4715-be34-4b39ff9d9761",
   "metadata": {},
   "outputs": [],
   "source": [
    "# 7. AdaBoost Classifier on W300_O25_Features\n",
    "evaluate_model.ada_boost_classifier_model()"
   ]
  },
  {
   "cell_type": "code",
   "execution_count": null,
   "id": "6602c946-67c2-4f77-a0b1-93f7b2b0569c",
   "metadata": {},
   "outputs": [],
   "source": [
    "# 8. Gradient Boost on W300_O25_Features\n",
    "evaluate_model.gradient_boost_model()"
   ]
  },
  {
   "cell_type": "code",
   "execution_count": null,
   "id": "ec888f8c-a007-4a19-affa-1ee018407969",
   "metadata": {},
   "outputs": [],
   "source": [
    "# 9. XGBoost Classifier on W300_O25_Features\n",
    "evaluate_model.xg_boost_classifier_model()"
   ]
  },
  {
   "cell_type": "code",
   "execution_count": null,
   "id": "725f9c61-e299-4cc5-b725-a5b7b4c3d4f5",
   "metadata": {},
   "outputs": [],
   "source": [
    "# 10. Artificial Neural Network on W300_O25_Features\n",
    "evaluate_model.ann_model()"
   ]
  },
  {
   "cell_type": "code",
   "execution_count": null,
   "id": "600ffc8c-fd94-41f6-80fa-367877c3f02d",
   "metadata": {},
   "outputs": [],
   "source": [
    "# Evaluation for W300_O50_Features\n",
    "evaluate_model = ModelTuningAndEvaluation(path + \"W300_O50_Features.csv\")"
   ]
  },
  {
   "cell_type": "code",
   "execution_count": null,
   "id": "b59b5c58-60cd-4e22-8a2b-4c869a122ea3",
   "metadata": {},
   "outputs": [],
   "source": [
    "# 1. Logistic Regression on W300_O50_Features\n",
    "evaluate_model.logistic_regression_model()"
   ]
  },
  {
   "cell_type": "code",
   "execution_count": null,
   "id": "70f1528e-c120-40f7-ab94-a6ffe82a37bf",
   "metadata": {},
   "outputs": [],
   "source": [
    "# 2. Decision Tree Classifier on W300_O50_Features\n",
    "evaluate_model.decission_tree_classifier_model()"
   ]
  },
  {
   "cell_type": "code",
   "execution_count": null,
   "id": "ab1f571e-ad54-4502-b34c-2b433eff26db",
   "metadata": {},
   "outputs": [],
   "source": [
    "# 3. Random Forest Classifier on W300_O50_Features\n",
    "evaluate_model.random_forest_classifier_model()"
   ]
  },
  {
   "cell_type": "code",
   "execution_count": null,
   "id": "57833a5b-06d2-4fb7-9758-2f3827fb2f96",
   "metadata": {},
   "outputs": [],
   "source": [
    "# 4. Gaussian Naive Bayes on W300_O50_Features\n",
    "evaluate_model.gaussian_naive_bias_classifier_model()"
   ]
  },
  {
   "cell_type": "code",
   "execution_count": null,
   "id": "a29b6018-1811-477b-9363-f0d89d3cb97f",
   "metadata": {},
   "outputs": [],
   "source": [
    "# 5. Support Vector Classifier on W300_O50_Features\n",
    "evaluate_model.support_vector_classifier_model()"
   ]
  },
  {
   "cell_type": "code",
   "execution_count": null,
   "id": "d63d0592-921d-4618-b214-4bedae7abb97",
   "metadata": {},
   "outputs": [],
   "source": [
    "# 6. K-Nearest Neighbors on W300_O50_Features\n",
    "evaluate_model.knn_classifier_model()"
   ]
  },
  {
   "cell_type": "code",
   "execution_count": null,
   "id": "b63b208f-6786-4b85-a56e-c4721e13b8e5",
   "metadata": {},
   "outputs": [],
   "source": [
    "# 7. AdaBoost Classifier on W300_O50_Features\n",
    "evaluate_model.ada_boost_classifier_model()"
   ]
  },
  {
   "cell_type": "code",
   "execution_count": null,
   "id": "f46743c6-f6aa-4e50-9b22-967b77183baa",
   "metadata": {},
   "outputs": [],
   "source": [
    "# 8. Gradient Boost on W300_O50_Features\n",
    "evaluate_model.gradient_boost_model()"
   ]
  },
  {
   "cell_type": "code",
   "execution_count": null,
   "id": "dd27312d-d08d-4461-8223-952859671470",
   "metadata": {},
   "outputs": [],
   "source": [
    "# 9. XGBoost Classifier on W300_O50_Features\n",
    "evaluate_model.xg_boost_classifier_model()"
   ]
  },
  {
   "cell_type": "code",
   "execution_count": null,
   "id": "fa3e972d-abf8-42b0-8807-5756a50333c6",
   "metadata": {},
   "outputs": [],
   "source": [
    "# 10. Artificial Neural Network on W300_O50_Features\n",
    "evaluate_model.ann_model()"
   ]
  },
  {
   "cell_type": "code",
   "execution_count": null,
   "id": "fced19f4-f9b0-43f9-bd4a-c27079f0bd34",
   "metadata": {},
   "outputs": [],
   "source": [
    "# Evaluation for W400_O25_Features\n",
    "evaluate_model = ModelTuningAndEvaluation(path + \"W400_O25_Features.csv\")"
   ]
  },
  {
   "cell_type": "code",
   "execution_count": null,
   "id": "0857e162-77dd-4302-b852-80b1e82998fb",
   "metadata": {},
   "outputs": [],
   "source": [
    "# 1. Logistic Regression on W400_O25_Features\n",
    "evaluate_model.logistic_regression_model()"
   ]
  },
  {
   "cell_type": "code",
   "execution_count": null,
   "id": "5fbc8be8-a9bd-4b22-ace0-80062dbe9382",
   "metadata": {},
   "outputs": [],
   "source": [
    "# 2. Decision Tree Classifier on W400_O25_Features\n",
    "evaluate_model.decission_tree_classifier_model()"
   ]
  },
  {
   "cell_type": "code",
   "execution_count": null,
   "id": "4f073799-7f09-4055-9c79-a6d5b4d3dab7",
   "metadata": {},
   "outputs": [],
   "source": [
    "# 3. Random Forest Classifier on W400_O25_Features\n",
    "evaluate_model.random_forest_classifier_model()"
   ]
  },
  {
   "cell_type": "code",
   "execution_count": null,
   "id": "68af99e4-55c2-405c-b0fc-06ed24e7863a",
   "metadata": {},
   "outputs": [],
   "source": [
    "# 4. Gaussian Naive Bayes on W400_O25_Features\n",
    "evaluate_model.gaussian_naive_bias_classifier_model()"
   ]
  },
  {
   "cell_type": "code",
   "execution_count": null,
   "id": "f38d40c0-768e-41e4-a975-ec55ee3b6118",
   "metadata": {},
   "outputs": [],
   "source": [
    "# 5. Support Vector Classifier on W400_O25_Features\n",
    "evaluate_model.support_vector_classifier_model()"
   ]
  },
  {
   "cell_type": "code",
   "execution_count": null,
   "id": "59cfc9b6-37f2-4fa6-b3d4-99fabd92afc4",
   "metadata": {},
   "outputs": [],
   "source": [
    "# 6. K-Nearest Neighbors on W400_O25_Features\n",
    "evaluate_model.knn_classifier_model()"
   ]
  },
  {
   "cell_type": "code",
   "execution_count": null,
   "id": "8a8130e6-3100-4173-b58a-62697132437e",
   "metadata": {},
   "outputs": [],
   "source": [
    "# 7. AdaBoost Classifier on W400_O25_Features\n",
    "evaluate_model.ada_boost_classifier_model()"
   ]
  },
  {
   "cell_type": "code",
   "execution_count": null,
   "id": "c3fc5ebb-226f-4acb-b2ba-d6c69958bae8",
   "metadata": {},
   "outputs": [],
   "source": [
    "# 8. Gradient Boost on W400_O25_Features\n",
    "evaluate_model.gradient_boost_model()"
   ]
  },
  {
   "cell_type": "code",
   "execution_count": null,
   "id": "f2cbb333-655d-47f4-aa23-5078b76474ef",
   "metadata": {},
   "outputs": [],
   "source": [
    "# 9. XGBoost Classifier on W400_O25_Features\n",
    "evaluate_model.xg_boost_classifier_model()"
   ]
  },
  {
   "cell_type": "code",
   "execution_count": null,
   "id": "86ebbd24-a1c1-4647-8ada-05dc1c2d0183",
   "metadata": {},
   "outputs": [],
   "source": [
    "# 10. Artificial Neural Network on W400_O25_Features\n",
    "evaluate_model.ann_model()"
   ]
  },
  {
   "cell_type": "code",
   "execution_count": null,
   "id": "b08a0465-4ef1-478a-b302-abd012706e62",
   "metadata": {},
   "outputs": [],
   "source": [
    "# Evaluation for W400_O50_Features\n",
    "evaluate_model = ModelTuningAndEvaluation(path + \"W400_O50_Features.csv\")"
   ]
  },
  {
   "cell_type": "code",
   "execution_count": null,
   "id": "47aee36f-6d7e-4d8c-bdb9-bdbe4fe5fb7c",
   "metadata": {},
   "outputs": [],
   "source": [
    "# 1. Logistic Regression on W400_O50_Features\n",
    "evaluate_model.logistic_regression_model()"
   ]
  },
  {
   "cell_type": "code",
   "execution_count": null,
   "id": "83d76188-f9be-4776-9b19-5cab4b1c8db8",
   "metadata": {},
   "outputs": [],
   "source": [
    "# 2. Decision Tree Classifier on W400_O50_Features\n",
    "evaluate_model.decission_tree_classifier_model()"
   ]
  },
  {
   "cell_type": "code",
   "execution_count": null,
   "id": "c1017a1e-2d66-42bc-9b0c-1ebb7c3cc27a",
   "metadata": {},
   "outputs": [],
   "source": [
    "# 3. Random Forest Classifier on W400_O50_Features\n",
    "evaluate_model.random_forest_classifier_model()"
   ]
  },
  {
   "cell_type": "code",
   "execution_count": null,
   "id": "1186016a-f714-43bb-b422-e55f748ddf65",
   "metadata": {},
   "outputs": [],
   "source": [
    "# 4. Gaussian Naive Bayes on W400_O50_Features\n",
    "evaluate_model.gaussian_naive_bias_classifier_model()"
   ]
  },
  {
   "cell_type": "code",
   "execution_count": null,
   "id": "304d353d-71f9-4ee0-8d9a-d172059ca75c",
   "metadata": {},
   "outputs": [],
   "source": [
    "# 5. Support Vector Classifier on W400_O50_Features\n",
    "evaluate_model.support_vector_classifier_model()"
   ]
  },
  {
   "cell_type": "code",
   "execution_count": null,
   "id": "2ec16383-8d9a-4962-9a69-afd08afe8b1a",
   "metadata": {},
   "outputs": [],
   "source": [
    "# 6. K-Nearest Neighbors on W400_O50_Features\n",
    "evaluate_model.knn_classifier_model()"
   ]
  },
  {
   "cell_type": "code",
   "execution_count": null,
   "id": "6919df13-c00f-42a4-a80c-60ad40f89c12",
   "metadata": {},
   "outputs": [],
   "source": [
    "# 7. AdaBoost Classifier on W400_O50_Features\n",
    "evaluate_model.ada_boost_classifier_model()"
   ]
  },
  {
   "cell_type": "code",
   "execution_count": null,
   "id": "1bdd4b57-cd16-4e38-a1a4-9a57c2afadfc",
   "metadata": {},
   "outputs": [],
   "source": [
    "# 8. Gradient Boost on W400_O50_Features\n",
    "evaluate_model.gradient_boost_model()"
   ]
  },
  {
   "cell_type": "code",
   "execution_count": null,
   "id": "b0bc7fbd-cb2b-4af2-81ad-eb425f1f3d1a",
   "metadata": {},
   "outputs": [],
   "source": [
    "# 9. XGBoost Classifier on W400_O50_Features\n",
    "evaluate_model.xg_boost_classifier_model()"
   ]
  },
  {
   "cell_type": "code",
   "execution_count": null,
   "id": "4d81b880-70e2-4ac9-8df3-8e0c72bc6777",
   "metadata": {},
   "outputs": [],
   "source": [
    "# 10. Artificial Neural Network on W400_O50_Features\n",
    "evaluate_model.ann_model()"
   ]
  },
  {
   "cell_type": "code",
   "execution_count": null,
   "id": "ff0c9a7c-5105-4d61-afd5-d93c43ab8662",
   "metadata": {},
   "outputs": [],
   "source": [
    "# Evaluation for W500_O25_Features\n",
    "evaluate_model = ModelTuningAndEvaluation(path + \"W500_O25_Features.csv\")"
   ]
  },
  {
   "cell_type": "code",
   "execution_count": null,
   "id": "229feec1-83a6-40a9-bad1-3b0983b7407e",
   "metadata": {},
   "outputs": [],
   "source": [
    "# 1. Logistic Regression on W500_O25_Features\n",
    "evaluate_model.logistic_regression_model()"
   ]
  },
  {
   "cell_type": "code",
   "execution_count": null,
   "id": "85e84e82-d29a-42e0-826f-0088fa22c17f",
   "metadata": {},
   "outputs": [],
   "source": [
    "# 2. Decision Tree Classifier on W500_O25_Features\n",
    "evaluate_model.decission_tree_classifier_model()"
   ]
  },
  {
   "cell_type": "code",
   "execution_count": null,
   "id": "123ad44e-cbc4-421a-83e4-481803479e67",
   "metadata": {},
   "outputs": [],
   "source": [
    "# 3. Random Forest Classifier on W500_O25_Features\n",
    "evaluate_model.random_forest_classifier_model()"
   ]
  },
  {
   "cell_type": "code",
   "execution_count": null,
   "id": "4e0d7049-e4f6-4de7-881f-dcda060548c8",
   "metadata": {},
   "outputs": [],
   "source": [
    "# 4. Gaussian Naive Bayes on W500_O25_Features\n",
    "evaluate_model.gaussian_naive_bias_classifier_model()"
   ]
  },
  {
   "cell_type": "code",
   "execution_count": null,
   "id": "4212fd16-2a41-4496-9dc3-af2052f691ee",
   "metadata": {},
   "outputs": [],
   "source": [
    "# 5. Support Vector Classifier on W500_O25_Features\n",
    "evaluate_model.support_vector_classifier_model()"
   ]
  },
  {
   "cell_type": "code",
   "execution_count": null,
   "id": "8cfcd635-3391-454e-835a-5fdc62ca7031",
   "metadata": {},
   "outputs": [],
   "source": [
    "# 6. K-Nearest Neighbors on W500_O25_Features\n",
    "evaluate_model.knn_classifier_model()"
   ]
  },
  {
   "cell_type": "code",
   "execution_count": null,
   "id": "9165cfe4-46db-4318-b75d-3f4705c11e1e",
   "metadata": {},
   "outputs": [],
   "source": [
    "# 7. AdaBoost Classifier on W500_O25_Features\n",
    "evaluate_model.ada_boost_classifier_model()"
   ]
  },
  {
   "cell_type": "code",
   "execution_count": null,
   "id": "7798665f-6314-41e8-978f-9072aa150b9c",
   "metadata": {},
   "outputs": [],
   "source": [
    "# 8. Gradient Boost on W500_O25_Features\n",
    "evaluate_model.gradient_boost_model()"
   ]
  },
  {
   "cell_type": "code",
   "execution_count": null,
   "id": "3110aaa3-1c3b-4669-a9ed-ccfba360d8b3",
   "metadata": {},
   "outputs": [],
   "source": [
    "# 9. XGBoost Classifier on W500_O25_Features\n",
    "evaluate_model.xg_boost_classifier_model()"
   ]
  },
  {
   "cell_type": "code",
   "execution_count": null,
   "id": "78df5a4c-ab6a-4f0d-94f4-d9632bb34c6b",
   "metadata": {},
   "outputs": [],
   "source": [
    "# 10. Artificial Neural Network on W500_O25_Features\n",
    "evaluate_model.ann_model()"
   ]
  },
  {
   "cell_type": "code",
   "execution_count": null,
   "id": "184a3b44-7859-4f84-9e2b-653f2469c8c0",
   "metadata": {},
   "outputs": [],
   "source": [
    "# Evaluation for W500_O50_Features\n",
    "evaluate_model = ModelTuningAndEvaluation(path + \"W500_O50_Features.csv\")"
   ]
  },
  {
   "cell_type": "code",
   "execution_count": null,
   "id": "3cd89a4d-6178-4f20-a62a-28ea8b09e980",
   "metadata": {},
   "outputs": [],
   "source": [
    "# 1. Logistic Regression on W500_O50_Features\n",
    "evaluate_model.logistic_regression_model()"
   ]
  },
  {
   "cell_type": "code",
   "execution_count": null,
   "id": "b0194a77-96c8-41bc-aa4f-7bc186a988dd",
   "metadata": {},
   "outputs": [],
   "source": [
    "# 2. Decision Tree Classifier on W500_O50_Features\n",
    "evaluate_model.decission_tree_classifier_model()"
   ]
  },
  {
   "cell_type": "code",
   "execution_count": null,
   "id": "1c8944fd-39f8-42c0-be1a-51a9fe641615",
   "metadata": {},
   "outputs": [],
   "source": [
    "# 3. Random Forest Classifier on W500_O50_Features\n",
    "evaluate_model.random_forest_classifier_model()"
   ]
  },
  {
   "cell_type": "code",
   "execution_count": null,
   "id": "804b28d1-9d16-41db-b90a-0ab96401f39d",
   "metadata": {},
   "outputs": [],
   "source": [
    "# 4. Gaussian Naive Bayes on W500_O50_Features\n",
    "evaluate_model.gaussian_naive_bias_classifier_model()"
   ]
  },
  {
   "cell_type": "code",
   "execution_count": null,
   "id": "372efca4-61a3-4fd3-b147-ddf976581ce3",
   "metadata": {},
   "outputs": [],
   "source": [
    "# 5. Support Vector Classifier on W500_O50_Features\n",
    "evaluate_model.support_vector_classifier_model()"
   ]
  },
  {
   "cell_type": "code",
   "execution_count": null,
   "id": "7aee2f0b-9d07-4739-8719-18cc4b1e941f",
   "metadata": {},
   "outputs": [],
   "source": [
    "# 6. K-Nearest Neighbors on W500_O50_Features\n",
    "evaluate_model.knn_classifier_model()"
   ]
  },
  {
   "cell_type": "code",
   "execution_count": null,
   "id": "bfd6b7c7-2890-4132-9900-d1c83c1f00fd",
   "metadata": {},
   "outputs": [],
   "source": [
    "# 7. AdaBoost Classifier on W500_O50_Features\n",
    "evaluate_model.ada_boost_classifier_model()"
   ]
  },
  {
   "cell_type": "code",
   "execution_count": null,
   "id": "020fac99-7d9f-4330-8176-05159a71e0a2",
   "metadata": {},
   "outputs": [],
   "source": [
    "# 8. Gradient Boost on W500_O50_Features\n",
    "evaluate_model.gradient_boost_model()"
   ]
  },
  {
   "cell_type": "code",
   "execution_count": null,
   "id": "5ab2fa67-bd21-4539-b444-3142f5a6e1cc",
   "metadata": {},
   "outputs": [],
   "source": [
    "# 9. XGBoost Classifier on W500_O50_Features\n",
    "evaluate_model.xg_boost_classifier_model()"
   ]
  },
  {
   "cell_type": "code",
   "execution_count": null,
   "id": "2e2825b5-a6f8-4bb5-b0d9-577366c133e9",
   "metadata": {},
   "outputs": [],
   "source": [
    "# 10. Artificial Neural Network on W500_O50_Features\n",
    "evaluate_model.ann_model()"
   ]
  }
 ],
 "metadata": {
  "colab": {
   "provenance": []
  },
  "kernelspec": {
   "display_name": "Python (tf_env)",
   "language": "python",
   "name": "tf_env"
  },
  "language_info": {
   "codemirror_mode": {
    "name": "ipython",
    "version": 3
   },
   "file_extension": ".py",
   "mimetype": "text/x-python",
   "name": "python",
   "nbconvert_exporter": "python",
   "pygments_lexer": "ipython3",
   "version": "3.9.15"
  }
 },
 "nbformat": 4,
 "nbformat_minor": 5
}
