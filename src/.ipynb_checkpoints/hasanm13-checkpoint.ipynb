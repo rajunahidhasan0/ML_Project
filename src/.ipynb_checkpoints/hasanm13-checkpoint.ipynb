{
 "cells": [
  {
   "cell_type": "code",
   "execution_count": 22,
   "id": "7dad4a5c-e7ef-4eee-9b58-cd6c35c8146e",
   "metadata": {},
   "outputs": [],
   "source": [
    "import pandas as pd\n",
    "import numpy as np\n",
    "from sklearn.model_selection import train_test_split, GridSearchCV, RandomizedSearchCV, KFold, StratifiedKFold\n",
    "from sklearn.preprocessing import StandardScaler\n",
    "from sklearn.metrics import accuracy_score, roc_auc_score, classification_report, confusion_matrix  \n",
    "from sklearn.pipeline import Pipeline\n",
    "\n",
    "# Models\n",
    "from sklearn.linear_model import LogisticRegression\n",
    "from sklearn.tree import DecisionTreeClassifier\n",
    "from sklearn.ensemble import RandomForestClassifier, GradientBoostingClassifier, AdaBoostClassifier\n",
    "from sklearn.naive_bayes import GaussianNB\n",
    "from sklearn.svm import SVC\n",
    "from sklearn.neighbors import KNeighborsClassifier\n",
    "from xgboost import XGBClassifier\n",
    "from sklearn.neural_network import MLPClassifier\n"
   ]
  },
  {
   "cell_type": "code",
   "execution_count": null,
   "id": "844fb587-7ad7-46c7-823a-aa221336d95c",
   "metadata": {},
   "outputs": [],
   "source": [
    "from sklearn.model_selection import GridSearchCV, RandomizedSearchCV\n",
    "\n",
    "def perform_grid_search(estimator, param_grid):\n",
    "    grid_search = GridSearchCV(estimator=estimator, param_grid=param_grid)\n",
    "    grid_search.fit(X, y)\n",
    "    return {\n",
    "        'best_model': grid_search.best_estimator_,\n",
    "        'best_params': grid_search.best_params_,\n",
    "        'best_score': grid_search.best_score_\n",
    "    }\n",
    "\n",
    "\n",
    "def perform_random_search(estimator, param_grid):\n",
    "    random_search = RandomizedSearchCV(estimator=estimator, param_distributions=param_grid)\n",
    "    random_search.fit(X, y)\n",
    "    return {\n",
    "        'best_model': random_search.best_estimator_,\n",
    "        'best_params': random_search.best_params_,\n",
    "        'best_score': random_search.best_score_\n",
    "    }\n"
   ]
  },
  {
   "cell_type": "code",
   "execution_count": 1,
   "id": "802cd508-8f89-4679-bd72-7d6ade5177ad",
   "metadata": {},
   "outputs": [
    {
     "ename": "SyntaxError",
     "evalue": "expected ':' (1289344422.py, line 1)",
     "output_type": "error",
     "traceback": [
      "\u001b[1;36m  Cell \u001b[1;32mIn[1], line 1\u001b[1;36m\u001b[0m\n\u001b[1;33m    def grid_search()\u001b[0m\n\u001b[1;37m                     ^\u001b[0m\n\u001b[1;31mSyntaxError\u001b[0m\u001b[1;31m:\u001b[0m expected ':'\n"
     ]
    }
   ],
   "source": [
    "def hyperparameter_tuning(self, estimator, param_grid):\n",
    "    # Perform Grid Search\n",
    "    grid_results = perform_grid_search(estimator, param_grid)\n",
    "\n",
    "    # Perform Randomized Search\n",
    "    random_results = perform_random_search(estimator, param_grid)\n",
    "\n",
    "    # Compare results and choose the best\n",
    "    if grid_results['best_score'] >= random_results['best_score']:\n",
    "        return {\n",
    "            'best_model': grid_results['best_model'],\n",
    "            'best_params': grid_results['best_params'],\n",
    "            'best_score': grid_results['best_score'],\n",
    "            'tuning_method': 'GridSearch'\n",
    "        }\n",
    "    else:\n",
    "        return {\n",
    "            'best_model': random_results['best_model'],\n",
    "            'best_params': random_results['best_params'],\n",
    "            'best_score': random_results['best_score'],\n",
    "            'tuning_method': 'RandomSearch'\n",
    "        }\n"
   ]
  },
  {
   "cell_type": "code",
   "execution_count": 42,
   "id": "a8ff9a43-2902-4162-a7cf-0e5fb07c670b",
   "metadata": {},
   "outputs": [],
   "source": [
    "## Execute All Models One by One"
   ]
  },
  {
   "cell_type": "code",
   "execution_count": null,
   "id": "0dd7c335-5fba-4997-bc1a-3bacf8b730c4",
   "metadata": {},
   "outputs": [],
   "source": [
    "run_decision_tree()"
   ]
  },
  {
   "cell_type": "code",
   "execution_count": null,
   "id": "aa179bf0-3246-4fc3-b8f9-a93c0d33f18b",
   "metadata": {},
   "outputs": [],
   "source": [
    "run_random_forest()"
   ]
  },
  {
   "cell_type": "code",
   "execution_count": null,
   "id": "d4468b51-628d-4624-ba6a-907901d3e0bc",
   "metadata": {},
   "outputs": [],
   "source": [
    "run_gradient_boosting()"
   ]
  },
  {
   "cell_type": "code",
   "execution_count": null,
   "id": "aa926889-9604-46c1-ae0c-22dea3023cf2",
   "metadata": {},
   "outputs": [],
   "source": [
    "run_ada_boost()"
   ]
  },
  {
   "cell_type": "code",
   "execution_count": null,
   "id": "8b01c2c8-06a2-4cf7-b010-990adfb92cb4",
   "metadata": {},
   "outputs": [],
   "source": [
    "run_gaussian_nb()"
   ]
  },
  {
   "cell_type": "code",
   "execution_count": null,
   "id": "a37262ad-b19a-4684-9328-bfe8d6412ec0",
   "metadata": {},
   "outputs": [],
   "source": [
    "run_svc()"
   ]
  },
  {
   "cell_type": "code",
   "execution_count": null,
   "id": "add2c7ff-db47-44a2-bfe1-e6b67ea9a017",
   "metadata": {},
   "outputs": [],
   "source": [
    "run_knn()"
   ]
  },
  {
   "cell_type": "code",
   "execution_count": null,
   "id": "223cbe18-f608-4866-99fd-e4bfc2512467",
   "metadata": {},
   "outputs": [],
   "source": [
    "run_xgboost()"
   ]
  },
  {
   "cell_type": "code",
   "execution_count": null,
   "id": "94f09805-29c7-4015-9345-fb589db237f2",
   "metadata": {},
   "outputs": [],
   "source": [
    "run_mlp()"
   ]
  },
  {
   "cell_type": "code",
   "execution_count": null,
   "id": "2d8478f0-d29e-46df-9855-9c4d7b8b4034",
   "metadata": {},
   "outputs": [],
   "source": []
  }
 ],
 "metadata": {
  "kernelspec": {
   "display_name": "Python 3 (ipykernel)",
   "language": "python",
   "name": "python3"
  },
  "language_info": {
   "codemirror_mode": {
    "name": "ipython",
    "version": 3
   },
   "file_extension": ".py",
   "mimetype": "text/x-python",
   "name": "python",
   "nbconvert_exporter": "python",
   "pygments_lexer": "ipython3",
   "version": "3.13.1"
  }
 },
 "nbformat": 4,
 "nbformat_minor": 5
}
