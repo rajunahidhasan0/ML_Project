{
 "cells": [
  {
   "cell_type": "code",
   "execution_count": 4,
   "id": "37b35b50-c6c6-4e9a-be9c-61610079efd3",
   "metadata": {},
   "outputs": [],
   "source": [
    "import pandas as pd\n",
    "import numpy as np\n",
    "import os\n",
    "from sklearn.model_selection import train_test_split, GridSearchCV, RandomizedSearchCV, KFold, StratifiedKFold\n",
    "from sklearn.preprocessing import StandardScaler\n",
    "from sklearn.metrics import accuracy_score, roc_auc_score, classification_report, confusion_matrix  \n",
    "from sklearn.pipeline import Pipeline\n",
    "\n",
    "# Models\n",
    "from sklearn.linear_model import LogisticRegression\n",
    "from sklearn.tree import DecisionTreeClassifier\n",
    "from sklearn.ensemble import RandomForestClassifier, GradientBoostingClassifier, AdaBoostClassifier\n",
    "from sklearn.naive_bayes import GaussianNB\n",
    "from sklearn.svm import SVC\n",
    "from sklearn.neighbors import KNeighborsClassifier\n",
    "from xgboost import XGBClassifier\n",
    "from sklearn.neural_network import MLPClassifier\n"
   ]
  },
  {
   "cell_type": "code",
   "execution_count": null,
   "id": "b5b6aff5-32eb-4ebc-8792-19f76bd16200",
   "metadata": {},
   "outputs": [],
   "source": []
  },
  {
   "cell_type": "code",
   "execution_count": null,
   "id": "c0468e2f-4dd9-41e5-96b2-c6df463e5d93",
   "metadata": {},
   "outputs": [],
   "source": []
  },
  {
   "cell_type": "code",
   "execution_count": null,
   "id": "e63f1500-0062-412d-9499-b491000dd6fc",
   "metadata": {},
   "outputs": [],
   "source": []
  },
  {
   "cell_type": "code",
   "execution_count": null,
   "id": "addf5b3d-0678-4f68-a75f-0b973f94648f",
   "metadata": {},
   "outputs": [],
   "source": []
  },
  {
   "cell_type": "code",
   "execution_count": null,
   "id": "7eae08c7-54ba-41c2-869e-84ae67262dee",
   "metadata": {},
   "outputs": [],
   "source": []
  },
  {
   "cell_type": "code",
   "execution_count": null,
   "id": "d6340b12-a235-4048-a08d-a9004474cb53",
   "metadata": {},
   "outputs": [],
   "source": []
  },
  {
   "cell_type": "code",
   "execution_count": null,
   "id": "3072f638-5963-4dce-9431-e25e7dcd4ba4",
   "metadata": {},
   "outputs": [],
   "source": []
  },
  {
   "cell_type": "code",
   "execution_count": null,
   "id": "300422b3-dd42-462f-b385-cbb637bb87f1",
   "metadata": {},
   "outputs": [],
   "source": []
  },
  {
   "cell_type": "code",
   "execution_count": null,
   "id": "ce19b270-44f0-4ee9-9b64-246b9c5209ae",
   "metadata": {},
   "outputs": [],
   "source": []
  },
  {
   "cell_type": "code",
   "execution_count": null,
   "id": "b8f57fa3-49a7-4cb1-8f26-b94e612e0dd9",
   "metadata": {},
   "outputs": [],
   "source": []
  },
  {
   "cell_type": "code",
   "execution_count": null,
   "id": "9102aab3-177b-4a3e-9fbb-2854056f79dc",
   "metadata": {},
   "outputs": [],
   "source": []
  },
  {
   "cell_type": "code",
   "execution_count": null,
   "id": "0dccb982-7d4e-42ac-9340-d806ecd6c1fe",
   "metadata": {},
   "outputs": [],
   "source": []
  },
  {
   "cell_type": "code",
   "execution_count": null,
   "id": "0b3f5f91-e124-4986-9467-bfad8f6f02b9",
   "metadata": {},
   "outputs": [],
   "source": []
  },
  {
   "cell_type": "code",
   "execution_count": null,
   "id": "b40aa3bc-0f59-42e7-8fd6-6925118e302e",
   "metadata": {},
   "outputs": [],
   "source": []
  },
  {
   "cell_type": "code",
   "execution_count": 5,
   "id": "a38ac373-f7e7-4039-8e9d-1ca99f9ef04f",
   "metadata": {},
   "outputs": [],
   "source": [
    "# Load dataset\n",
    "\n",
    "# Define the folder containing the feature files\n",
    "folder_path = \"../data/Processed_Features\"\n",
    "\n",
    "# List all files in the folder\n",
    "feature_files = [f for f in os.listdir(folder_path) if f.endswith('.csv')]"
   ]
  },
  {
   "cell_type": "code",
   "execution_count": null,
   "id": "6da72d10-120b-49f8-8b78-67941a511a13",
   "metadata": {},
   "outputs": [],
   "source": [
    "# Loop through each feature file\n",
    "for feature_file in feature_files:\n",
    "    file_path = os.path.join(folder_path, feature_file)\n",
    "    \n",
    "    # Load the dataset\n",
    "    print(f\"Processing file: {feature_file}\")\n",
    "    data = pd.read_csv(file_path)\n",
    "    \n",
    "    # Separate features and target\n",
    "    X = data.iloc[:, :-1]  # Features\n",
    "    y = data.iloc[:, -1]   # Target (Assuming the last column is the label)\n",
    "    \n",
    "    # Display some basic information about the dataset\n",
    "    print(f\"Shape of X: {X.shape}, Shape of y: {y.shape}\")\n",
    "    \n",
    "    # Now proceed with processing and experiments for this file\n",
    "    # Example: train-test split\n",
    "    from sklearn.model_selection import train_test_split\n",
    "    X_train, X_test, y_train, y_test = train_test_split(X, y, test_size=0.2, stratify=y, random_state=42)\n",
    "    \n",
    "    # You can add additional processing and experiments here\n",
    "    # e.g., model training, cross-validation, hyperparameter tuning, etc.\n",
    "    print(f\"Completed processing for file: {feature_file}\")"
   ]
  },
  {
   "cell_type": "code",
   "execution_count": null,
   "id": "6180465f-6034-4528-a726-f8221af8a8ad",
   "metadata": {},
   "outputs": [],
   "source": [
    "#Temporary Calculation\n",
    "X = X.head(100)\n",
    "y = y.head(100)"
   ]
  },
  {
   "cell_type": "code",
   "execution_count": null,
   "id": "69b40596-e553-481b-add4-3d05cfc29caf",
   "metadata": {},
   "outputs": [],
   "source": []
  },
  {
   "cell_type": "code",
   "execution_count": null,
   "id": "5ada718e-a749-441c-adb7-7952c36a7526",
   "metadata": {},
   "outputs": [],
   "source": []
  }
 ],
 "metadata": {
  "kernelspec": {
   "display_name": "Python 3 (ipykernel)",
   "language": "python",
   "name": "python3"
  },
  "language_info": {
   "codemirror_mode": {
    "name": "ipython",
    "version": 3
   },
   "file_extension": ".py",
   "mimetype": "text/x-python",
   "name": "python",
   "nbconvert_exporter": "python",
   "pygments_lexer": "ipython3",
   "version": "3.13.1"
  }
 },
 "nbformat": 4,
 "nbformat_minor": 5
}
